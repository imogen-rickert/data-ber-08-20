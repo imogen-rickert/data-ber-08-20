{
 "cells": [
  {
   "cell_type": "markdown",
   "metadata": {},
   "source": [
    "## Challenge 2: Sets\n",
    "\n",
    "There are a lot to learn about Python Sets and the information presented in the lesson is limited due to its length. To learn Python Sets in depth you are strongly encouraged to review the W3Schools tutorial on [Python Sets Examples and Methods](https://www.w3schools.com/python/python_sets.asp) before you work on this lab. Some difficult questions in this lab have their solutions in the W3Schools tutorial.\n",
    "\n",
    "#### First, import the Python `random` libary"
   ]
  },
  {
   "cell_type": "code",
   "execution_count": 2,
   "metadata": {},
   "outputs": [],
   "source": [
    "import random"
   ]
  },
  {
   "cell_type": "markdown",
   "metadata": {},
   "source": [
    "#### In the cell below, create a list named `sample_list_1` with 80 random values. \n",
    "\n",
    "Requirements:\n",
    "\n",
    "* Each value is an integer falling between 0 and 100.\n",
    "* Each value in the list is unique.\n",
    "\n",
    "Print `sample_list_1` to review its values\n",
    "\n",
    "*Hint: use `random.sample` ([reference](https://docs.python.org/3/library/random.html#random.sample)).*"
   ]
  },
  {
   "cell_type": "code",
   "execution_count": 3,
   "metadata": {},
   "outputs": [
    {
     "name": "stdout",
     "output_type": "stream",
     "text": [
      "[40, 31, 45, 85, 84, 95, 9, 69, 41, 1, 82, 2, 20, 66, 55, 61, 94, 58, 92, 76, 15, 53, 30, 71, 88, 56, 5, 62, 99, 80, 98, 75, 0, 50, 29, 18, 87, 16, 38, 70, 90, 74, 43, 46, 97, 23, 49, 63, 77, 78, 54, 51, 12, 4, 96, 21, 3, 81, 68, 86, 59, 83, 14, 48, 64, 34, 42, 28, 22, 39, 89, 6, 25, 79, 27, 17, 57, 65, 13, 33]\n"
     ]
    }
   ],
   "source": [
    "# Your code here\n",
    "sample_list_1 = random.sample(range(100), k=80)\n",
    "print(sample_list_1)"
   ]
  },
  {
   "cell_type": "markdown",
   "metadata": {},
   "source": [
    "#### Convert `sample_list_1` to a set called `set1`. Print the length of the set. Is its length still 80?"
   ]
  },
  {
   "cell_type": "code",
   "execution_count": 4,
   "metadata": {},
   "outputs": [
    {
     "name": "stdout",
     "output_type": "stream",
     "text": [
      "{0, 1, 2, 3, 4, 5, 6, 9, 12, 13, 14, 15, 16, 17, 18, 20, 21, 22, 23, 25, 27, 28, 29, 30, 31, 33, 34, 38, 39, 40, 41, 42, 43, 45, 46, 48, 49, 50, 51, 53, 54, 55, 56, 57, 58, 59, 61, 62, 63, 64, 65, 66, 68, 69, 70, 71, 74, 75, 76, 77, 78, 79, 80, 81, 82, 83, 84, 85, 86, 87, 88, 89, 90, 92, 94, 95, 96, 97, 98, 99}\n",
      "80\n",
      "yes\n"
     ]
    }
   ],
   "source": [
    "# Your code here\n",
    "set1 = set(sample_list_1)\n",
    "print(set1)\n",
    "print(len(set1))\n",
    "print('yes')"
   ]
  },
  {
   "cell_type": "markdown",
   "metadata": {},
   "source": [
    "#### Create another list named `sample_list_2` with 80 random values.\n",
    "\n",
    "Requirements:\n",
    "\n",
    "* Each value is an integer falling between 0 and 100.\n",
    "* The values in the list don't have to be unique.\n",
    "\n",
    "*Hint: Use a FOR loop.*"
   ]
  },
  {
   "cell_type": "code",
   "execution_count": 5,
   "metadata": {},
   "outputs": [
    {
     "name": "stdout",
     "output_type": "stream",
     "text": [
      "[51, 90, 52, 98, 51, 59, 45, 22, 88, 74, 3, 1, 23, 68, 37, 88, 14, 77, 24, 29, 48, 68, 5, 50, 87, 71, 25, 26, 5, 6, 56, 81, 88, 83, 44, 52, 48, 30, 6, 56, 52, 88, 37, 2, 6, 19, 15, 54, 14, 44, 17, 27, 11, 76, 97, 98, 36, 6, 26, 1, 19, 38, 34, 72, 9, 13, 69, 21, 97, 14, 37, 38, 64, 62, 52, 8, 54, 62, 39, 8]\n"
     ]
    }
   ],
   "source": [
    "# Your code here\n",
    "sample_list_2 = random.choices(range(100), k = 80)\n",
    "\n",
    "\n",
    "print(sample_list_2)"
   ]
  },
  {
   "cell_type": "markdown",
   "metadata": {},
   "source": [
    "#### Convert `sample_list_2` to a set called `set2`. Print the length of the set. Is its length still 80?"
   ]
  },
  {
   "cell_type": "code",
   "execution_count": 6,
   "metadata": {},
   "outputs": [
    {
     "name": "stdout",
     "output_type": "stream",
     "text": [
      "{1, 2, 3, 5, 6, 8, 9, 11, 13, 14, 15, 17, 19, 21, 22, 23, 24, 25, 26, 27, 29, 30, 34, 36, 37, 38, 39, 44, 45, 48, 50, 51, 52, 54, 56, 59, 62, 64, 68, 69, 71, 72, 74, 76, 77, 81, 83, 87, 88, 90, 97, 98}\n",
      "52\n"
     ]
    }
   ],
   "source": [
    "# Your code here\n",
    "set2 = set(sample_list_2)\n",
    "print(set2)\n",
    "print(len(set2))"
   ]
  },
  {
   "cell_type": "markdown",
   "metadata": {},
   "source": [
    "#### Identify the elements present in `set1` but not in `set2`. Assign the elements to a new set named `set3`."
   ]
  },
  {
   "cell_type": "code",
   "execution_count": 7,
   "metadata": {
    "scrolled": true
   },
   "outputs": [
    {
     "name": "stdout",
     "output_type": "stream",
     "text": [
      "set1: {0, 1, 2, 3, 4, 5, 6, 9, 12, 13, 14, 15, 16, 17, 18, 20, 21, 22, 23, 25, 27, 28, 29, 30, 31, 33, 34, 38, 39, 40, 41, 42, 43, 45, 46, 48, 49, 50, 51, 53, 54, 55, 56, 57, 58, 59, 61, 62, 63, 64, 65, 66, 68, 69, 70, 71, 74, 75, 76, 77, 78, 79, 80, 81, 82, 83, 84, 85, 86, 87, 88, 89, 90, 92, 94, 95, 96, 97, 98, 99}\n",
      "set2: {1, 2, 3, 5, 6, 8, 9, 11, 13, 14, 15, 17, 19, 21, 22, 23, 24, 25, 26, 27, 29, 30, 34, 36, 37, 38, 39, 44, 45, 48, 50, 51, 52, 54, 56, 59, 62, 64, 68, 69, 71, 72, 74, 76, 77, 81, 83, 87, 88, 90, 97, 98}\n",
      "set31: {0, 4, 12, 16, 18, 20, 28, 31, 33, 40, 41, 42, 43, 46, 49, 53, 55, 57, 58, 61, 63, 65, 66, 70, 75, 78, 79, 80, 82, 84, 85, 86, 89, 92, 94, 95, 96, 99}\n",
      "set3: {0, 4, 12, 16, 18, 20, 28, 31, 33, 40, 41, 42, 43, 46, 49, 53, 55, 57, 58, 61, 63, 65, 66, 70, 75, 78, 79, 80, 82, 84, 85, 86, 89, 92, 94, 95, 96, 99}\n"
     ]
    }
   ],
   "source": [
    "\n",
    "print('set1:', set1)\n",
    "print('set2:', set2)\n",
    "\n",
    "set31 = set1 - set2\n",
    "print('set31:', set31)\n",
    "\n",
    "set3 = set1.difference(set2)\n",
    "print('set3:', set3)\n",
    "\n"
   ]
  },
  {
   "cell_type": "markdown",
   "metadata": {},
   "source": [
    "#### Identify the elements present in `set2` but not in `set1`. Assign the elements to a new set named `set4`."
   ]
  },
  {
   "cell_type": "code",
   "execution_count": 8,
   "metadata": {},
   "outputs": [
    {
     "name": "stdout",
     "output_type": "stream",
     "text": [
      "{36, 37, 8, 72, 11, 44, 19, 52, 24, 26}\n"
     ]
    }
   ],
   "source": [
    "set4 = set2.difference(set1)\n",
    "print(set4)"
   ]
  },
  {
   "cell_type": "markdown",
   "metadata": {},
   "source": [
    "#### Now Identify the elements shared between `set1` and `set2`. Assign the elements to a new set named `set5`."
   ]
  },
  {
   "cell_type": "code",
   "execution_count": 9,
   "metadata": {},
   "outputs": [
    {
     "name": "stdout",
     "output_type": "stream",
     "text": [
      "{1, 2, 3, 5, 6, 9, 13, 14, 15, 17, 21, 22, 23, 25, 27, 29, 30, 34, 38, 39, 45, 48, 50, 51, 54, 56, 59, 62, 64, 68, 69, 71, 74, 76, 77, 81, 83, 87, 88, 90, 97, 98}\n"
     ]
    }
   ],
   "source": [
    "\n",
    "set5 = set1.intersection(set2)\n",
    "print(set5)\n",
    "\n"
   ]
  },
  {
   "cell_type": "markdown",
   "metadata": {},
   "source": [
    "#### What is the relationship among the following values:\n",
    "\n",
    "* len(set1)\n",
    "* len(set2)\n",
    "* len(set3)\n",
    "* len(set4)\n",
    "* len(set5)\n",
    "\n",
    "Use a math formular to represent that relationship. Test your formular with Python code."
   ]
  },
  {
   "cell_type": "code",
   "execution_count": 10,
   "metadata": {},
   "outputs": [
    {
     "name": "stdout",
     "output_type": "stream",
     "text": [
      "80\n",
      "52\n",
      "38\n",
      "10\n",
      "42\n"
     ]
    }
   ],
   "source": [
    "# Your code here\n",
    "\n",
    "#set 1: {0, 1, 2, 3, 4, 5, 6, 9, 12, 13, 14, 15, 16, 17, 18, 20, 21, 22, 23, 25, 27, 28, 29, 30, 31, 33, 34, 38, 39, 40, 41, 42, 43, 45, 46, 48, 49, 50, 51, 53, 54, 55, 56, 57, 58, 59, 61, 62, 63, 64, 65, 66, 68, 69, 70, 71, 74, 75, 76, 77, 78, 79, 80, 81, 82, 83, 84, 85, 86, 87, 88, 89, 90, 92, 94, 95, 96, 97, 98, 99}\n",
    "#set 1 is with replacement\n",
    "\n",
    "#set 2: {1, 2, 3, 5, 6, 8, 9, 11, 13, 14, 15, 17, 19, 21, 22, 23, 24, 25, 26, 27, 29, 30, 34, 36, 37, 38, 39, 44, 45, 48, 50, 51, 52, 54, 56, 59, 62, 64, 68, 69, 71, 72, 74, 76, 77, 81, 83, 87, 88, 90, 97, 98}\n",
    "#set 2 is without replacement\n",
    "\n",
    "#set3: {0, 4, 12, 16, 18, 20, 28, 31, 33, 40, 41, 42, 43, 46, 49, 53, 55, 57, 58, 61, 63, 65, 66, 70, 75, 78, 79, 80, 82, 84, 85, 86, 89, 92, 94, 95, 96, 99}\n",
    "#set3 =  elements present in set1 but not in set2\n",
    "#set3 is set1 - set2\n",
    "\n",
    "#set4 = {36, 37, 8, 72, 11, 44, 19, 52, 24, 26}\n",
    "#set4 =  elements present in set2 but not in set1\n",
    "#set4 is set2 - set1\n",
    "\n",
    "#set 5 = {1, 2, 3, 5, 6, 9, 13, 14, 15, 17, 21, 22, 23, 25, 27, 29, 30, 34, 38, 39, 45, 48, 50, 51, 54, 56, 59, 62, 64, 68, 69, 71, 74, 76, 77, 81, 83, 87, 88, 90, 97, 98}\n",
    "#set5 = elements shared between set1 and set2 (venn diagram?)\n",
    "\n",
    "relationship = \n",
    "set3 = set1 - set2\n",
    "set4 = set2 - set1\n",
    "\n",
    "print(len(set1))\n",
    "print(len(set2))\n",
    "print(len(set3))\n",
    "print(len(set4))\n",
    "print(len(set5))"
   ]
  },
  {
   "cell_type": "markdown",
   "metadata": {},
   "source": [
    "#### Create an empty set called `set6`."
   ]
  },
  {
   "cell_type": "code",
   "execution_count": 11,
   "metadata": {},
   "outputs": [
    {
     "name": "stdout",
     "output_type": "stream",
     "text": [
      "set()\n",
      "<class 'set'>\n"
     ]
    }
   ],
   "source": [
    "# Your code here\n",
    "set6 = set()\n",
    "print(set6)\n",
    "print(type(set6))"
   ]
  },
  {
   "cell_type": "markdown",
   "metadata": {},
   "source": [
    "#### Add `set3` and `set5` to `set6` using the Python Set `update` method."
   ]
  },
  {
   "cell_type": "code",
   "execution_count": 12,
   "metadata": {},
   "outputs": [
    {
     "name": "stdout",
     "output_type": "stream",
     "text": [
      "{0, 1, 2, 3, 4, 5, 6, 9, 12, 13, 14, 15, 16, 17, 18, 20, 21, 22, 23, 25, 27, 28, 29, 30, 31, 33, 34, 38, 39, 40, 41, 42, 43, 45, 46, 48, 49, 50, 51, 53, 54, 55, 56, 57, 58, 59, 61, 62, 63, 64, 65, 66, 68, 69, 70, 71, 74, 75, 76, 77, 78, 79, 80, 81, 82, 83, 84, 85, 86, 87, 88, 89, 90, 92, 94, 95, 96, 97, 98, 99}\n"
     ]
    }
   ],
   "source": [
    "# Your code here\n",
    "set6.update(set3,set5)\n",
    "print(set6)"
   ]
  },
  {
   "cell_type": "markdown",
   "metadata": {},
   "source": [
    "#### Check if `set1` and `set6` are equal."
   ]
  },
  {
   "cell_type": "code",
   "execution_count": 13,
   "metadata": {},
   "outputs": [
    {
     "name": "stdout",
     "output_type": "stream",
     "text": [
      "True\n"
     ]
    }
   ],
   "source": [
    "# Your code here\n",
    "if set1 == set6:\n",
    "    print(True)\n",
    "else:\n",
    "    print(False)\n"
   ]
  },
  {
   "cell_type": "markdown",
   "metadata": {},
   "source": [
    "#### Check if `set1` contains `set2` using the Python Set `issubset` method. Then check if `set1` contains `set3`.*"
   ]
  },
  {
   "cell_type": "code",
   "execution_count": 14,
   "metadata": {},
   "outputs": [
    {
     "name": "stdout",
     "output_type": "stream",
     "text": [
      "False\n",
      "False\n"
     ]
    }
   ],
   "source": [
    "# Your code here\n",
    "set1inset2 = set1.issubset(set2)\n",
    "print(set1inset2)\n",
    "\n",
    "set1inset3 = set1.issubset(set3)\n",
    "print(set1inset3)"
   ]
  },
  {
   "cell_type": "markdown",
   "metadata": {},
   "source": [
    "#### Using the Python Set `union` method, aggregate `set3`, `set4`, and `set5`. Then aggregate `set1` and `set2`. \n",
    "\n",
    "#### Check if the aggregated values are equal."
   ]
  },
  {
   "cell_type": "code",
   "execution_count": 15,
   "metadata": {},
   "outputs": [
    {
     "name": "stdout",
     "output_type": "stream",
     "text": [
      "{0, 4, 12, 16, 18, 20, 28, 31, 33, 40, 41, 42, 43, 46, 49, 53, 55, 57, 58, 61, 63, 65, 66, 70, 75, 78, 79, 80, 82, 84, 85, 86, 89, 92, 94, 95, 96, 99}\n",
      "{0, 1, 2, 3, 4, 5, 6, 9, 12, 13, 14, 15, 16, 17, 18, 20, 21, 22, 23, 25, 27, 28, 29, 30, 31, 33, 34, 38, 39, 40, 41, 42, 43, 45, 46, 48, 49, 50, 51, 53, 54, 55, 56, 57, 58, 59, 61, 62, 63, 64, 65, 66, 68, 69, 70, 71, 74, 75, 76, 77, 78, 79, 80, 81, 82, 83, 84, 85, 86, 87, 88, 89, 90, 92, 94, 95, 96, 97, 98, 99}\n"
     ]
    }
   ],
   "source": [
    "# Your code here\n",
    "\n",
    "\n",
    "set3.union(set4, set5)\n",
    "print(set3)\n",
    "\n",
    "set1.union(set2)\n",
    "print(set1)"
   ]
  },
  {
   "cell_type": "markdown",
   "metadata": {},
   "source": [
    "#### Using the `pop` method, remove an element from `set1`."
   ]
  },
  {
   "cell_type": "code",
   "execution_count": 17,
   "metadata": {},
   "outputs": [
    {
     "data": {
      "text/plain": [
       "1"
      ]
     },
     "execution_count": 17,
     "metadata": {},
     "output_type": "execute_result"
    }
   ],
   "source": [
    "# Your code here\n",
    "set1.pop()"
   ]
  },
  {
   "cell_type": "markdown",
   "metadata": {},
   "source": [
    "#### Remove every element in the following list from `set1` if they are present in the set. Print the remaining elements.\n",
    "\n",
    "```\n",
    "list_to_remove = [1, 9, 11, 19, 21, 29, 31, 39, 41, 49, 51, 59, 61, 69, 71, 79, 81, 89, 91, 99]\n",
    "```"
   ]
  },
  {
   "cell_type": "code",
   "execution_count": 20,
   "metadata": {},
   "outputs": [
    {
     "name": "stdout",
     "output_type": "stream",
     "text": [
      "{2, 3, 4, 5, 6, 12, 13, 14, 15, 16, 17, 18, 20, 22, 23, 25, 27, 28, 30, 33, 34, 38, 40, 42, 43, 45, 46, 48, 50, 53, 54, 55, 56, 57, 58, 62, 63, 64, 65, 66, 68, 70, 74, 75, 76, 77, 78, 80, 82, 83, 84, 85, 86, 87, 88, 90, 92, 94, 95, 96, 97, 98}\n"
     ]
    }
   ],
   "source": [
    "list_to_remove = [1, 9, 11, 19, 21, 29, 31, 39, 41, 49, 51, 59, 61, 69, 71, 79, 81, 89, 91, 99]\n",
    "\n",
    "set1.difference_update(list_to_remove)\n",
    "print(set1)\n",
    "\n",
    "#use difference and/or remove when coming back to on Tuesday\n",
    "#also come back to maths equation\n",
    "#difference_update()\t\n",
    "#Removes the items in this set that are also included in another, specified set"
   ]
  },
  {
   "cell_type": "code",
   "execution_count": null,
   "metadata": {},
   "outputs": [],
   "source": []
  }
 ],
 "metadata": {
  "kernelspec": {
   "display_name": "Python 3",
   "language": "python",
   "name": "python3"
  },
  "language_info": {
   "codemirror_mode": {
    "name": "ipython",
    "version": 3
   },
   "file_extension": ".py",
   "mimetype": "text/x-python",
   "name": "python",
   "nbconvert_exporter": "python",
   "pygments_lexer": "ipython3",
   "version": "3.8.5"
  }
 },
 "nbformat": 4,
 "nbformat_minor": 2
}
